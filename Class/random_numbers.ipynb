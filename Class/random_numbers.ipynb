{
 "cells": [
  {
   "cell_type": "code",
   "execution_count": 22,
   "id": "8d134979",
   "metadata": {},
   "outputs": [],
   "source": [
    "# Import the random module\n",
    "import random"
   ]
  },
  {
   "cell_type": "code",
   "execution_count": 23,
   "id": "77720715",
   "metadata": {},
   "outputs": [
    {
     "data": {
      "text/plain": [
       "50"
      ]
     },
     "execution_count": 23,
     "metadata": {},
     "output_type": "execute_result"
    }
   ],
   "source": [
    "# Get an integer between -90 and 90\n",
    "random.randint(-90, 90)"
   ]
  },
  {
   "cell_type": "code",
   "execution_count": 24,
   "id": "ccf32d0a",
   "metadata": {},
   "outputs": [
    {
     "data": {
      "text/plain": [
       "0.39326177511699534"
      ]
     },
     "execution_count": 24,
     "metadata": {},
     "output_type": "execute_result"
    }
   ],
   "source": [
    "# Get a floating-point decimal number between 0 and 1\n",
    "random.random()"
   ]
  },
  {
   "cell_type": "code",
   "execution_count": 25,
   "id": "a15cefda",
   "metadata": {},
   "outputs": [
    {
     "data": {
      "text/plain": [
       "24.122370611715834"
      ]
     },
     "execution_count": 25,
     "metadata": {},
     "output_type": "execute_result"
    }
   ],
   "source": [
    "# Get a floating-point decimal between -90 and 90, whole # up to 89\n",
    "random_number = random.randint(-90,89) + random.random()\n",
    "random_number"
   ]
  },
  {
   "cell_type": "code",
   "execution_count": 26,
   "id": "71a98a93",
   "metadata": {},
   "outputs": [
    {
     "data": {
      "text/plain": [
       "[17.069275095601547,\n",
       " -0.7331714685829684,\n",
       " -86.66357430309583,\n",
       " 87.49232073134894,\n",
       " 48.86502154161234,\n",
       " -82.44518554816035,\n",
       " -23.193779940848852,\n",
       " 60.86547098378822,\n",
       " -8.953619334978129,\n",
       " -41.765714200204705]"
      ]
     },
     "execution_count": 26,
     "metadata": {},
     "output_type": "execute_result"
    }
   ],
   "source": [
    "# Generate 10 random floating-point decimal latitudes between -90 & 90\n",
    "x = 1\n",
    "latitudes =[]\n",
    "while x <11:\n",
    "    random_lat = random.randint(-90, 89) + random.random()\n",
    "    latitudes.append(random_lat)\n",
    "    x +=1\n",
    "latitudes"
   ]
  },
  {
   "cell_type": "code",
   "execution_count": 27,
   "id": "41cb4095",
   "metadata": {},
   "outputs": [
    {
     "data": {
      "text/plain": [
       "-10"
      ]
     },
     "execution_count": 27,
     "metadata": {},
     "output_type": "execute_result"
    }
   ],
   "source": [
    "# Get an integer between -90 and 90, difference between numbers is 1\n",
    "random.randrange(-90,90, step =1)"
   ]
  },
  {
   "cell_type": "code",
   "execution_count": 28,
   "id": "5ff5cba6",
   "metadata": {},
   "outputs": [
    {
     "data": {
      "text/plain": [
       "-25.05051538222689"
      ]
     },
     "execution_count": 28,
     "metadata": {},
     "output_type": "execute_result"
    }
   ],
   "source": [
    "# Get a floating-point decimal number between two given numbers\n",
    "random.uniform(-90, 90)"
   ]
  },
  {
   "cell_type": "code",
   "execution_count": 32,
   "id": "a8bdf303",
   "metadata": {},
   "outputs": [],
   "source": [
    "# Import numpy, don't need to import random\n",
    "import numpy as np, timeit"
   ]
  },
  {
   "cell_type": "code",
   "execution_count": 30,
   "id": "3a0fc498",
   "metadata": {},
   "outputs": [
    {
     "data": {
      "text/plain": [
       "78.65904232460807"
      ]
     },
     "execution_count": 30,
     "metadata": {},
     "output_type": "execute_result"
    }
   ],
   "source": [
    "# Get a floating-point decimal number between –90.000 and 90.000\n",
    "np.random.uniform(-90, 90)"
   ]
  },
  {
   "cell_type": "code",
   "execution_count": 31,
   "id": "48ec3010",
   "metadata": {},
   "outputs": [
    {
     "data": {
      "text/plain": [
       "array([-23.50901974, -17.29495473,  68.7677626 ,  85.45397204,\n",
       "       -77.35256009, -21.07315563,  28.16818057,  12.04052909,\n",
       "       -42.69736294, -56.28303977, -24.60006195, -80.28199268,\n",
       "        36.97674337, -49.98705915,  83.71071704, -65.44156262,\n",
       "        21.72240354,  -1.03319887,  76.14229495,   7.6573999 ,\n",
       "       -12.89366217,  -8.88081009,  68.99784027,  -0.37862527,\n",
       "        83.43874028,  -8.18380703, -83.45793189, -82.80324625,\n",
       "        10.85643925, -19.90926096, -81.69493614,  36.47445295,\n",
       "        66.01228615,  12.59755102, -36.99475783,  89.75396405,\n",
       "         6.13793913, -79.59322837,  27.23581365, -83.93480711,\n",
       "       -12.3705405 ,   1.16430276,  12.80332313,  83.70622082,\n",
       "         0.26264308, -71.18444126, -86.30391876, -56.23433312,\n",
       "         4.49731685,  46.91348631])"
      ]
     },
     "execution_count": 31,
     "metadata": {},
     "output_type": "execute_result"
    }
   ],
   "source": [
    "# Get 50 floating-point decimal number between -90 and 90\n",
    "np.random.uniform(-90, 90, size=50)"
   ]
  },
  {
   "cell_type": "code",
   "execution_count": 33,
   "id": "4b56233e",
   "metadata": {},
   "outputs": [
    {
     "name": "stdout",
     "output_type": "stream",
     "text": [
      "16.2 µs ± 345 ns per loop (mean ± std. dev. of 7 runs, 100000 loops each)\n"
     ]
    }
   ],
   "source": [
    "# Add timeit, Get 1500 floating-point decimal number between -90 & 90\n",
    "%timeit np.random.uniform(-90,90, size=1500)"
   ]
  },
  {
   "cell_type": "code",
   "execution_count": 35,
   "id": "b4a08a4f",
   "metadata": {},
   "outputs": [
    {
     "name": "stdout",
     "output_type": "stream",
     "text": [
      "2.11 ms ± 132 µs per loop (mean ± std. dev. of 7 runs, 100 loops each)\n"
     ]
    }
   ],
   "source": [
    "# Add timeit to while loop method above:\n",
    "def latitudes(size):\n",
    "    latitudes = []\n",
    "    x = 0\n",
    "    while x <(size):\n",
    "        random_lat = random.randint(-90,90) + random.random()\n",
    "        latitudes.append(random_lat)\n",
    "        x +=1\n",
    "    return latitudes\n",
    "\n",
    "# Call the function with 1500\n",
    "%timeit latitudes(1500)"
   ]
  },
  {
   "cell_type": "code",
   "execution_count": null,
   "id": "2f1a811c",
   "metadata": {},
   "outputs": [],
   "source": []
  }
 ],
 "metadata": {
  "kernelspec": {
   "display_name": "Python 3",
   "language": "python",
   "name": "python3"
  },
  "language_info": {
   "codemirror_mode": {
    "name": "ipython",
    "version": 3
   },
   "file_extension": ".py",
   "mimetype": "text/x-python",
   "name": "python",
   "nbconvert_exporter": "python",
   "pygments_lexer": "ipython3",
   "version": "3.8.8"
  }
 },
 "nbformat": 4,
 "nbformat_minor": 5
}
